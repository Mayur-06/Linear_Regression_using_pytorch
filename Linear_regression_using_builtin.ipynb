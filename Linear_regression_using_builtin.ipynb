{
 "cells": [
  {
   "cell_type": "markdown",
   "metadata": {},
   "source": [
    "## We've implemented linear regression & gradient descent model using some basic tensor operations. However, since this is a common pattern in deep learning, PyTorch provides several built-in functions and classes to make it easy to create and train models with just a few lines of code."
   ]
  },
  {
   "cell_type": "code",
   "execution_count": 27,
   "metadata": {},
   "outputs": [],
   "source": [
    "import torch\n",
    "import torch.nn as nn\n",
    "import numpy as np"
   ]
  },
  {
   "cell_type": "code",
   "execution_count": 28,
   "metadata": {},
   "outputs": [],
   "source": [
    "# Input (temp, rainfall, humidity)\n",
    "inputs = np.array([[73, 67, 43],\n",
    "                   [91, 88, 64],\n",
    "                   [87, 134, 58],\n",
    "                   [102, 43, 37],\n",
    "                   [69, 96, 70],\n",
    "                   [74, 66, 43],\n",
    "                   [91, 87, 65],\n",
    "                   [88, 134, 59],\n",
    "                   [101, 44, 37],\n",
    "                   [68, 96, 71],\n",
    "                   [73, 66, 44],\n",
    "                   [92, 87, 64],\n",
    "                   [87, 135, 57],\n",
    "                   [103, 43, 36],\n",
    "                   [68, 97, 70]],\n",
    "                  dtype='float32')\n",
    "\n",
    "# Targets (apples, oranges)\n",
    "targets = np.array([[56, 70],\n",
    "                    [81, 101],\n",
    "                    [119, 133],\n",
    "                    [22, 37],\n",
    "                    [103, 119],\n",
    "                    [57, 69],\n",
    "                    [80, 102],\n",
    "                    [118, 132],\n",
    "                    [21, 38],\n",
    "                    [104, 118],\n",
    "                    [57, 69],\n",
    "                    [82, 100],\n",
    "                    [118, 134],\n",
    "                    [20, 38],\n",
    "                    [102, 120]],\n",
    "                   dtype='float32')\n",
    "\n",
    "inputs = torch.from_numpy(inputs)\n",
    "targets = torch.from_numpy(targets)"
   ]
  },
  {
   "cell_type": "code",
   "execution_count": 29,
   "metadata": {},
   "outputs": [
    {
     "data": {
      "text/plain": [
       "tensor([[ 73.,  67.,  43.],\n",
       "        [ 91.,  88.,  64.],\n",
       "        [ 87., 134.,  58.],\n",
       "        [102.,  43.,  37.],\n",
       "        [ 69.,  96.,  70.],\n",
       "        [ 74.,  66.,  43.],\n",
       "        [ 91.,  87.,  65.],\n",
       "        [ 88., 134.,  59.],\n",
       "        [101.,  44.,  37.],\n",
       "        [ 68.,  96.,  71.],\n",
       "        [ 73.,  66.,  44.],\n",
       "        [ 92.,  87.,  64.],\n",
       "        [ 87., 135.,  57.],\n",
       "        [103.,  43.,  36.],\n",
       "        [ 68.,  97.,  70.]])"
      ]
     },
     "execution_count": 29,
     "metadata": {},
     "output_type": "execute_result"
    }
   ],
   "source": [
    "inputs"
   ]
  },
  {
   "cell_type": "markdown",
   "metadata": {},
   "source": [
    "## Load Dataset"
   ]
  },
  {
   "cell_type": "code",
   "execution_count": 30,
   "metadata": {},
   "outputs": [],
   "source": [
    "from torch.utils.data import TensorDataset"
   ]
  },
  {
   "cell_type": "code",
   "execution_count": 31,
   "metadata": {},
   "outputs": [
    {
     "data": {
      "text/plain": [
       "(tensor([[ 73.,  67.,  43.],\n",
       "         [ 91.,  88.,  64.],\n",
       "         [ 87., 134.,  58.]]),\n",
       " tensor([[ 56.,  70.],\n",
       "         [ 81., 101.],\n",
       "         [119., 133.]]))"
      ]
     },
     "execution_count": 31,
     "metadata": {},
     "output_type": "execute_result"
    }
   ],
   "source": [
    "# Define dataset\n",
    "train_ds = TensorDataset(inputs, targets)\n",
    "train_ds[0:3]"
   ]
  },
  {
   "cell_type": "code",
   "execution_count": 32,
   "metadata": {},
   "outputs": [],
   "source": [
    "from torch.utils.data import DataLoader"
   ]
  },
  {
   "cell_type": "code",
   "execution_count": 33,
   "metadata": {},
   "outputs": [],
   "source": [
    "# Define data loader\n",
    "batch_size = 5\n",
    "train_dl = DataLoader(train_ds, batch_size, shuffle=True)\n",
    "#DataLoader, which can split the data into batches of a predefined size while training.\n",
    "#It also provides other utilities like shuffling and random sampling of the data."
   ]
  },
  {
   "cell_type": "code",
   "execution_count": 34,
   "metadata": {},
   "outputs": [
    {
     "name": "stdout",
     "output_type": "stream",
     "text": [
      "tensor([[ 87., 135.,  57.],\n",
      "        [ 87., 134.,  58.],\n",
      "        [ 73.,  67.,  43.],\n",
      "        [103.,  43.,  36.],\n",
      "        [ 92.,  87.,  64.]])\n",
      "tensor([[118., 134.],\n",
      "        [119., 133.],\n",
      "        [ 56.,  70.],\n",
      "        [ 20.,  38.],\n",
      "        [ 82., 100.]])\n"
     ]
    }
   ],
   "source": [
    "for xb, yb in train_dl:\n",
    "    print(xb)\n",
    "    print(yb)\n",
    "    break\n",
    "#we have dataset in batches"
   ]
  },
  {
   "cell_type": "code",
   "execution_count": 35,
   "metadata": {},
   "outputs": [
    {
     "name": "stdout",
     "output_type": "stream",
     "text": [
      "Parameter containing:\n",
      "tensor([[-0.4094,  0.1716,  0.4452],\n",
      "        [ 0.4077, -0.5723,  0.4341]], requires_grad=True)\n",
      "Parameter containing:\n",
      "tensor([-0.2687,  0.0470], requires_grad=True)\n"
     ]
    }
   ],
   "source": [
    "# Define model\n",
    "model = nn.Linear(3, 2)\n",
    "print(model.weight)\n",
    "print(model.bias)"
   ]
  },
  {
   "cell_type": "code",
   "execution_count": 36,
   "metadata": {},
   "outputs": [
    {
     "data": {
      "text/plain": [
       "[Parameter containing:\n",
       " tensor([[-0.4094,  0.1716,  0.4452],\n",
       "         [ 0.4077, -0.5723,  0.4341]], requires_grad=True),\n",
       " Parameter containing:\n",
       " tensor([-0.2687,  0.0470], requires_grad=True)]"
      ]
     },
     "execution_count": 36,
     "metadata": {},
     "output_type": "execute_result"
    }
   ],
   "source": [
    "# Parameters\n",
    "list(model.parameters())"
   ]
  },
  {
   "cell_type": "code",
   "execution_count": 37,
   "metadata": {},
   "outputs": [
    {
     "data": {
      "text/plain": [
       "tensor([[  0.4864,  10.1341],\n",
       "        [  6.0703,  14.5711],\n",
       "        [ 12.9315, -15.9890],\n",
       "        [-18.1771,  33.0881],\n",
       "        [ 19.1218,   3.6276],\n",
       "        [ -0.0947,  11.1141],\n",
       "        [  6.3439,  15.5775],\n",
       "        [ 12.9673, -15.1472],\n",
       "        [-17.5961,  32.1081],\n",
       "        [ 19.9764,   3.6540],\n",
       "        [  0.7599,  11.1404],\n",
       "        [  5.4892,  15.5511],\n",
       "        [ 12.6580, -16.9954],\n",
       "        [-19.0318,  33.0618],\n",
       "        [ 19.7028,   2.6476]], grad_fn=<AddmmBackward0>)"
      ]
     },
     "execution_count": 37,
     "metadata": {},
     "output_type": "execute_result"
    }
   ],
   "source": [
    "# Generate predictions\n",
    "preds = model(inputs)\n",
    "preds"
   ]
  },
  {
   "cell_type": "code",
   "execution_count": 38,
   "metadata": {},
   "outputs": [],
   "source": [
    "# Import nn.functional\n",
    "import torch.nn.functional as F"
   ]
  },
  {
   "cell_type": "code",
   "execution_count": 39,
   "metadata": {},
   "outputs": [],
   "source": [
    "# Define loss function\n",
    "loss_fn = F.mse_loss"
   ]
  },
  {
   "cell_type": "code",
   "execution_count": 40,
   "metadata": {},
   "outputs": [
    {
     "name": "stdout",
     "output_type": "stream",
     "text": [
      "tensor(7483.5791, grad_fn=<MseLossBackward0>)\n"
     ]
    }
   ],
   "source": [
    "loss = loss_fn(model(inputs), targets)\n",
    "print(loss)"
   ]
  },
  {
   "cell_type": "markdown",
   "metadata": {},
   "source": [
    "## Optimizers"
   ]
  },
  {
   "cell_type": "code",
   "execution_count": 41,
   "metadata": {},
   "outputs": [],
   "source": [
    "# Define optimizer\n",
    "opt = torch.optim.SGD(model.parameters(), lr=1e-5)"
   ]
  },
  {
   "cell_type": "code",
   "execution_count": 42,
   "metadata": {},
   "outputs": [],
   "source": [
    "# Utility function to train the model\n",
    "def fit(num_epochs, model, loss_fn, opt, train_dl):\n",
    "\n",
    "    # Repeat for given number of epochs\n",
    "    for epoch in range(num_epochs):\n",
    "\n",
    "        # Train with batches of data\n",
    "        for xb,yb in train_dl:\n",
    "\n",
    "            # 1. Generate predictions\n",
    "            pred = model(xb)\n",
    "\n",
    "            # 2. Calculate loss\n",
    "            loss = loss_fn(pred, yb)\n",
    "\n",
    "            # 3. Compute gradients\n",
    "            loss.backward()\n",
    "\n",
    "            # 4. Update parameters using gradients\n",
    "            opt.step()\n",
    "\n",
    "            # 5. Reset the gradients to zero\n",
    "            opt.zero_grad()\n",
    "\n",
    "        # Print the progress\n",
    "        if (epoch+1) % 10 == 0:\n",
    "            print('Epoch [{}/{}], Loss: {:.4f}'.format(epoch+1, num_epochs, loss.item()))"
   ]
  },
  {
   "cell_type": "code",
   "execution_count": 43,
   "metadata": {},
   "outputs": [
    {
     "name": "stdout",
     "output_type": "stream",
     "text": [
      "Epoch [10/1000], Loss: 511.7119\n",
      "Epoch [20/1000], Loss: 548.3265\n",
      "Epoch [30/1000], Loss: 574.0499\n",
      "Epoch [40/1000], Loss: 153.9457\n",
      "Epoch [50/1000], Loss: 142.3598\n",
      "Epoch [60/1000], Loss: 95.2136\n",
      "Epoch [70/1000], Loss: 79.4229\n",
      "Epoch [80/1000], Loss: 26.0790\n",
      "Epoch [90/1000], Loss: 34.5623\n"
     ]
    },
    {
     "name": "stdout",
     "output_type": "stream",
     "text": [
      "Epoch [100/1000], Loss: 16.1648\n",
      "Epoch [110/1000], Loss: 11.6952\n",
      "Epoch [120/1000], Loss: 8.0737\n",
      "Epoch [130/1000], Loss: 5.5539\n",
      "Epoch [140/1000], Loss: 2.2535\n",
      "Epoch [150/1000], Loss: 4.3126\n",
      "Epoch [160/1000], Loss: 1.7763\n",
      "Epoch [170/1000], Loss: 2.8700\n",
      "Epoch [180/1000], Loss: 3.2735\n",
      "Epoch [190/1000], Loss: 1.6414\n",
      "Epoch [200/1000], Loss: 1.7791\n",
      "Epoch [210/1000], Loss: 1.6418\n",
      "Epoch [220/1000], Loss: 1.4647\n",
      "Epoch [230/1000], Loss: 0.9439\n",
      "Epoch [240/1000], Loss: 1.4443\n",
      "Epoch [250/1000], Loss: 1.6344\n",
      "Epoch [260/1000], Loss: 1.6095\n",
      "Epoch [270/1000], Loss: 1.0571\n",
      "Epoch [280/1000], Loss: 1.5361\n",
      "Epoch [290/1000], Loss: 1.4561\n",
      "Epoch [300/1000], Loss: 1.3993\n",
      "Epoch [310/1000], Loss: 0.9345\n",
      "Epoch [320/1000], Loss: 1.2575\n",
      "Epoch [330/1000], Loss: 1.3861\n",
      "Epoch [340/1000], Loss: 1.0559\n",
      "Epoch [350/1000], Loss: 1.4033\n",
      "Epoch [360/1000], Loss: 1.3554\n",
      "Epoch [370/1000], Loss: 1.4072\n",
      "Epoch [380/1000], Loss: 1.3358\n",
      "Epoch [390/1000], Loss: 1.3680\n",
      "Epoch [400/1000], Loss: 1.0489\n",
      "Epoch [410/1000], Loss: 0.8833\n",
      "Epoch [420/1000], Loss: 1.4132\n",
      "Epoch [430/1000], Loss: 0.7402\n",
      "Epoch [440/1000], Loss: 0.8257\n",
      "Epoch [450/1000], Loss: 1.1195\n",
      "Epoch [460/1000], Loss: 1.4779\n",
      "Epoch [470/1000], Loss: 1.0373\n",
      "Epoch [480/1000], Loss: 1.3893\n",
      "Epoch [490/1000], Loss: 1.4474\n",
      "Epoch [500/1000], Loss: 0.9274\n",
      "Epoch [510/1000], Loss: 1.0752\n",
      "Epoch [520/1000], Loss: 0.8108\n",
      "Epoch [530/1000], Loss: 1.2157\n",
      "Epoch [540/1000], Loss: 1.0557\n",
      "Epoch [550/1000], Loss: 1.4443\n",
      "Epoch [560/1000], Loss: 1.0041\n",
      "Epoch [570/1000], Loss: 0.9172\n",
      "Epoch [580/1000], Loss: 1.2046\n",
      "Epoch [590/1000], Loss: 1.3165\n",
      "Epoch [600/1000], Loss: 1.4185\n",
      "Epoch [610/1000], Loss: 0.7527\n",
      "Epoch [620/1000], Loss: 1.1766\n",
      "Epoch [630/1000], Loss: 1.2898\n",
      "Epoch [640/1000], Loss: 1.2409\n",
      "Epoch [650/1000], Loss: 0.9104\n",
      "Epoch [660/1000], Loss: 0.9519\n",
      "Epoch [670/1000], Loss: 0.9151\n",
      "Epoch [680/1000], Loss: 0.8146\n",
      "Epoch [690/1000], Loss: 1.5084\n",
      "Epoch [700/1000], Loss: 1.3074\n",
      "Epoch [710/1000], Loss: 1.3879\n",
      "Epoch [720/1000], Loss: 0.6934\n",
      "Epoch [730/1000], Loss: 1.2790\n",
      "Epoch [740/1000], Loss: 1.4712\n",
      "Epoch [750/1000], Loss: 0.8917\n",
      "Epoch [760/1000], Loss: 1.3696\n",
      "Epoch [770/1000], Loss: 1.2185\n",
      "Epoch [780/1000], Loss: 1.4739\n",
      "Epoch [790/1000], Loss: 0.8191\n",
      "Epoch [800/1000], Loss: 0.8868\n",
      "Epoch [810/1000], Loss: 1.2113\n",
      "Epoch [820/1000], Loss: 1.2846\n",
      "Epoch [830/1000], Loss: 0.9374\n",
      "Epoch [840/1000], Loss: 0.7761\n",
      "Epoch [850/1000], Loss: 1.4013\n",
      "Epoch [860/1000], Loss: 0.9973\n",
      "Epoch [870/1000], Loss: 0.9119\n",
      "Epoch [880/1000], Loss: 1.1636\n",
      "Epoch [890/1000], Loss: 0.8542\n",
      "Epoch [900/1000], Loss: 0.8320\n",
      "Epoch [910/1000], Loss: 0.8940\n",
      "Epoch [920/1000], Loss: 1.1216\n",
      "Epoch [930/1000], Loss: 0.8292\n",
      "Epoch [940/1000], Loss: 0.9279\n",
      "Epoch [950/1000], Loss: 0.8475\n",
      "Epoch [960/1000], Loss: 0.8978\n",
      "Epoch [970/1000], Loss: 1.0641\n",
      "Epoch [980/1000], Loss: 0.9974\n",
      "Epoch [990/1000], Loss: 1.0045\n",
      "Epoch [1000/1000], Loss: 1.4346\n"
     ]
    }
   ],
   "source": [
    "fit(1000, model, loss_fn, opt, train_dl)"
   ]
  },
  {
   "cell_type": "code",
   "execution_count": 44,
   "metadata": {},
   "outputs": [
    {
     "data": {
      "text/plain": [
       "tensor([[ 56.8826,  70.4219],\n",
       "        [ 82.0400, 100.5342],\n",
       "        [118.1464, 132.8668],\n",
       "        [ 20.7965,  37.7825],\n",
       "        [101.8436, 118.4779],\n",
       "        [ 55.6384,  69.3427],\n",
       "        [ 81.9004, 100.6259],\n",
       "        [118.4454, 133.4664],\n",
       "        [ 22.0408,  38.8617],\n",
       "        [102.9482, 119.6488],\n",
       "        [ 56.7430,  70.5136],\n",
       "        [ 80.7958,  99.4550],\n",
       "        [118.2861, 132.7750],\n",
       "        [ 19.6920,  36.6116],\n",
       "        [103.0879, 119.5570]], grad_fn=<AddmmBackward0>)"
      ]
     },
     "execution_count": 44,
     "metadata": {},
     "output_type": "execute_result"
    }
   ],
   "source": [
    "# Generate predictions\n",
    "preds = model(inputs)\n",
    "preds"
   ]
  },
  {
   "cell_type": "code",
   "execution_count": 45,
   "metadata": {},
   "outputs": [
    {
     "data": {
      "text/plain": [
       "tensor([[ 56.,  70.],\n",
       "        [ 81., 101.],\n",
       "        [119., 133.],\n",
       "        [ 22.,  37.],\n",
       "        [103., 119.],\n",
       "        [ 57.,  69.],\n",
       "        [ 80., 102.],\n",
       "        [118., 132.],\n",
       "        [ 21.,  38.],\n",
       "        [104., 118.],\n",
       "        [ 57.,  69.],\n",
       "        [ 82., 100.],\n",
       "        [118., 134.],\n",
       "        [ 20.,  38.],\n",
       "        [102., 120.]])"
      ]
     },
     "execution_count": 45,
     "metadata": {},
     "output_type": "execute_result"
    }
   ],
   "source": [
    "# Compare with targets\n",
    "targets"
   ]
  },
  {
   "cell_type": "code",
   "execution_count": 46,
   "metadata": {},
   "outputs": [
    {
     "data": {
      "text/plain": [
       "tensor([[53.4131, 67.5618]], grad_fn=<AddmmBackward0>)"
      ]
     },
     "execution_count": 46,
     "metadata": {},
     "output_type": "execute_result"
    }
   ],
   "source": [
    "model(torch.tensor([[75, 63, 44.]]))"
   ]
  },
  {
   "cell_type": "markdown",
   "metadata": {},
   "source": [
    "### The predicted yield of apples is 53.57 tons per hectare, and that of oranges is 67.54 tons per hectare."
   ]
  },
  {
   "cell_type": "code",
   "execution_count": null,
   "metadata": {},
   "outputs": [],
   "source": []
  },
  {
   "cell_type": "code",
   "execution_count": null,
   "metadata": {},
   "outputs": [],
   "source": []
  }
 ],
 "metadata": {
  "kernelspec": {
   "display_name": "Python 3",
   "language": "python",
   "name": "python3"
  },
  "language_info": {
   "codemirror_mode": {
    "name": "ipython",
    "version": 3
   },
   "file_extension": ".py",
   "mimetype": "text/x-python",
   "name": "python",
   "nbconvert_exporter": "python",
   "pygments_lexer": "ipython3",
   "version": "3.11.9"
  }
 },
 "nbformat": 4,
 "nbformat_minor": 2
}
